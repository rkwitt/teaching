{
 "cells": [
  {
   "cell_type": "markdown",
   "metadata": {},
   "source": [
    "# Computer Vision (911.908)\n",
    "\n",
    "## <font color='crimson'>The Perceptron</font>\n",
    "\n",
    "---\n",
    "\n",
    "## Content\n",
    "\n",
    "- [Perceptron model](#Perceptron-model)\n",
    "- [Perceptron learning rule](#Perceptron-learning-rule)\n",
    "- [Implementation](#Implementation)\n",
    "    - [Dataset](#Dataset)\n",
    "    - [Model](#Model)\n",
    "    - [Preprocessing](#Preprocessing)\n",
    "    - [Model training](#Model-training)\n",
    "    - [Model evaluation](#Model-evaluation)\n",
    "    - [Visualizing the decision boundary](#Visualizing-the-decision-boundary)\n",
    "\n",
    "---\n",
    "\n",
    "## Perceptron model\n",
    "\n",
    "In this part, we discuss the *classic* perceptron model, also known as the **Rosenblatt Perceptron** (Rosenblatt, 1957). If you want to read the original paper, see [here](https://www.ling.upenn.edu/courses/cogs501/Rosenblatt1958.pdf).\n",
    "\n",
    "**Mathematical model**: Upon receiving an input $\\mathbf{x} \\in \\mathbb{R}^d$, the perceptron computes\n",
    "\n",
    "$$\n",
    "\\text{output} = \\begin{cases}\n",
    "1 & \\text{if}~\\sum_{i=1}^{d} w_i x_i > \\theta \\\\\n",
    "0 & \\text{else}\n",
    "\\end{cases}\n",
    "$$\n",
    "\n",
    "where $\\mathbf{w} = [w_1,\\ldots,w_d]^\\top$ and $\\theta$ (i.e., a scalar) represent the **model parameters**.\n",
    "\n",
    "Effectively, we compute the inner product (in $\\mathbb{R}^d$) between a weight vector $\\mathbf{w}$ and the input $\\mathbf{x}$, and then apply a *threshold* function on the output. In modern treatments of the subject, its more convenient to first define\n",
    "\n",
    "$$ \\phi_\\theta(z) = \\begin{cases}\n",
    "1 & \\text{if}~z-\\theta > 0\\\\\n",
    "0 & \\text{if}~z-\\theta \\leq 0\n",
    "\\end{cases}\n",
    "$$\n",
    " \n",
    "and then write the perceptron computation as\n",
    "\n",
    "$$\n",
    "\\text{output} = \\phi_\\theta(\\mathbf{w}^\\top \\mathbf{x})\n",
    "$$\n",
    "\n",
    "For our purposes, it will be even more convenient to write $\\mathbf{w}=[w_0,w_1,\\ldots,w_d]^\\top$ and \n",
    "$\\mathbf{x} = [1,x_1,\\ldots,x_d]^\\top$ with $w_0 = -\\theta$. That is, we include the **bias** term $-\\theta = w_0$ into $\\mathbf{w}$. This then allows to define\n",
    "\n",
    "$$\n",
    "\\phi(z) = \\begin{cases}\n",
    "1 & \\text{if}~z > 0 \\\\\n",
    "0 & \\text{if}~z \\leq 0\n",
    "\\end{cases}\n",
    "$$\n",
    "\n",
    "and write\n",
    "\n",
    "<font color='blue'>\n",
    "$$\n",
    "\\text{output} = \\phi(\\mathbf{w}^\\top \\mathbf{x})\n",
    "$$\n",
    "</font>\n",
    "\n",
    "with our newly adjusted weight vector and input vector."
   ]
  },
  {
   "cell_type": "markdown",
   "metadata": {},
   "source": [
    "---\n",
    "\n",
    "## Perceptron learning rule\n",
    "\n",
    "The perceptron learning rule is quite simple. Given a collection of training points \n",
    "\n",
    "$$(\\mathbf{x}_1,y_1), \\ldots, (\\mathbf{x}_N,y_N)$$ \n",
    "\n",
    "with $y_i \\in \\mathcal{Y} = \\{0,1\\}$, we distinguish between the following **three cases**:\n",
    "\n",
    "1. if correct: do nothing\n",
    "2. if incorrect (output $0$, desired $1$): <font color='blue'>add</font> input vector to weight vector $\\mathbf{w}$\n",
    "3. if incorrect (output $1$, desired $0$): <font color='blue'>subtract</font> input vector from weight vector $\\mathbf{w}$\n",
    "\n",
    "**Algorithmically**, we have:\n",
    "\n",
    "Initialize $\\mathbf{w}^{(1)} = \\mathbf{0}$ (i.e., all zeros)    \n",
    "For every training epoch (i.e., one run over all training points):    \n",
    "&nbsp;&nbsp;&nbsp;&nbsp; $\\forall i \\in \\{1,\\ldots,N\\}: \\hat{y}_i = \\phi(\\mathbf{w}^\\top \\mathbf{x}_i)$      \n",
    "&nbsp;&nbsp;&nbsp;&nbsp; $\\forall i \\in \\{1,\\ldots,N\\}: \\text{err}_i = (y_i - \\hat{y}_i)$   \n",
    "&nbsp;&nbsp;&nbsp;&nbsp; $\\forall i \\in \\{1,\\ldots,N\\}: \\mathbf{w}^{(t+1)} = \\mathbf{w}^{(t)} + \\text{err}_i \\cdot \\mathbf{x}_i$    \n",
    "Terminate if no errors occur, or if we reach a **certain number of runs (epochs)** over the training data.\n",
    "    \n",
    "**Note**: if $\\hat{y_i} = y_i$, then we do nothing; otherwise, we either add or subtract the input sample $\\mathbf{x}_i$ from the current weight vector $\\mathbf{w}^{(t)}$."
   ]
  },
  {
   "cell_type": "markdown",
   "metadata": {},
   "source": [
    "---\n",
    "\n",
    "## Implementation"
   ]
  },
  {
   "cell_type": "code",
   "execution_count": 12,
   "metadata": {},
   "outputs": [
    {
     "name": "stdout",
     "output_type": "stream",
     "text": [
      "The autoreload extension is already loaded. To reload it, use:\n",
      "  %reload_ext autoreload\n"
     ]
    }
   ],
   "source": [
    "%load_ext autoreload\n",
    "%autoreload 2\n",
    "\n",
    "%matplotlib inline\n",
    "import matplotlib.pyplot as plt\n",
    "\n",
    "import torch\n",
    "import numpy as np"
   ]
  },
  {
   "cell_type": "markdown",
   "metadata": {},
   "source": [
    "### Dataset"
   ]
  },
  {
   "cell_type": "markdown",
   "metadata": {},
   "source": [
    "We use some simple aleady prepared **toy data**. From that toy data, we are going to use 70% for training, 30% for testing."
   ]
  },
  {
   "cell_type": "code",
   "execution_count": 23,
   "metadata": {},
   "outputs": [
    {
     "name": "stdout",
     "output_type": "stream",
     "text": [
      "[[ 1.65  0.63  1.  ]\n",
      " [ 1.36 -0.22  1.  ]\n",
      " [ 2.63  0.4   1.  ]\n",
      " [ 0.9   2.05  1.  ]\n",
      " [ 1.26  3.54  1.  ]\n",
      " [ 0.71  2.27  1.  ]\n",
      " [ 1.96  0.83  1.  ]\n",
      " [ 2.52  1.83  1.  ]\n",
      " [ 2.77  2.82  1.  ]\n",
      " [ 4.16  3.34  1.  ]]\n",
      "(100, 3)\n"
     ]
    }
   ],
   "source": [
    "data = np.genfromtxt('../data/perceptron/perceptron_toydata.txt', \n",
    "                     delimiter='\\t')\n",
    "\n",
    "print(data[-10:,:])\n",
    "print(data.shape)"
   ]
  },
  {
   "cell_type": "markdown",
   "metadata": {},
   "source": [
    "In case you want to execute the notebook within Google collab, use the following data loading code (the previous cell will obviously not work as it references a file on the local harddisk)."
   ]
  },
  {
   "cell_type": "code",
   "execution_count": 24,
   "metadata": {},
   "outputs": [],
   "source": [
    "# import pandas as pd\n",
    "# import requests\n",
    "# import io\n",
    "    \n",
    "# # Downloading the csv file from your GitHub account\n",
    "\n",
    "# url = \"https://raw.githubusercontent.com/rkwitt/teaching/master/WS2223/CV/material/data/perceptron/perceptron_toydata.txt\" # Make sure the url is the raw version of the file on GitHub\n",
    "# download = requests.get(url).content\n",
    "# df = pd.read_csv(io.StringIO(download.decode('utf-8')), delimiter='\\t')\n",
    "# data = df.to_numpy(dtype=np.float32)\n",
    "# print(data[-10:,:])\n",
    "# print(data.shape)"
   ]
  },
  {
   "cell_type": "code",
   "execution_count": 25,
   "metadata": {},
   "outputs": [
    {
     "name": "stdout",
     "output_type": "stream",
     "text": [
      "Class label counts: [50 50]\n",
      "X.shape: (100, 2)\n",
      "y.shape: (100,)\n"
     ]
    }
   ],
   "source": [
    "X = data[:, 0:2]                  # first two-columns are our x_i vectors\n",
    "y = data[:, 2].astype(np.int32)   # last column is our target (0 or 1)\n",
    "\n",
    "print('Class label counts:', np.bincount(y))\n",
    "print('X.shape:', X.shape)\n",
    "print('y.shape:', y.shape)\n",
    "\n",
    "# implement random shuffling by hand, just for demonstration\n",
    "shuffle_idx = np.arange(y.shape[0])      \n",
    "shuffle_rng = np.random.RandomState(123)\n",
    "shuffle_rng.shuffle(shuffle_idx)\n",
    "\n",
    "X = X[shuffle_idx]\n",
    "y = y[shuffle_idx]\n",
    "\n",
    "# split the data into 70% training, 30% testing\n",
    "X_train, X_test = X[shuffle_idx[:70]], X[shuffle_idx[70:]]\n",
    "y_train, y_test = y[shuffle_idx[:70]], y[shuffle_idx[70:]]"
   ]
  },
  {
   "cell_type": "markdown",
   "metadata": {},
   "source": [
    "### Preprocessing\n",
    "\n",
    "For numerical stability, we perform some **simple pre-processing** on our data: (1) we subtract the mean and (2) divide by the standard deviation."
   ]
  },
  {
   "cell_type": "code",
   "execution_count": 26,
   "metadata": {},
   "outputs": [
    {
     "name": "stdout",
     "output_type": "stream",
     "text": [
      "Mean along colum:      [2.06184276e-17 7.93016446e-18]\n",
      "Std. dev along colum:  [1. 1.]\n"
     ]
    }
   ],
   "source": [
    "mu, sigma = X_train.mean(axis=0), X_train.std(axis=0) # compute mean & std. deviation\n",
    "X_train = (X_train - mu) / sigma\n",
    "X_test = (X_test - mu) / sigma\n",
    "\n",
    "# let's check if we have mean 0 and std. dev. 1 per column\n",
    "print(\"Mean along colum:     \", X_train.mean(axis=0))\n",
    "print(\"Std. dev along colum: \", X_train.std(axis=0))\n",
    "\n",
    "# add a column of all ones to X, such that each row is [x_1, x_2, 1]\n",
    "X_train = np.c_[ X_train, np.ones(X_train.shape[0])]\n",
    "X_test  = np.c_[ X_test, np.ones(X_test.shape[0])]"
   ]
  },
  {
   "cell_type": "code",
   "execution_count": 32,
   "metadata": {},
   "outputs": [
    {
     "data": {
      "text/plain": [
       "array([[ 1.37001499,  0.89400639,  1.        ],\n",
       "       [-1.47257051, -0.30436276,  1.        ],\n",
       "       [ 1.78644472,  1.28241061,  1.        ],\n",
       "       [ 0.75442323,  0.49612888,  1.        ],\n",
       "       [-0.70760722, -1.02433157,  1.        ],\n",
       "       [ 0.21125402, -1.03854148,  1.        ],\n",
       "       [ 0.3832576 , -0.63592734,  1.        ],\n",
       "       [-1.29604052, -2.21322744,  1.        ],\n",
       "       [ 0.6503158 ,  1.17346797,  1.        ],\n",
       "       [ 0.740844  ,  1.72765449,  1.        ],\n",
       "       [-1.13761617, -1.14274749,  1.        ],\n",
       "       [-2.35069406, -0.46540841,  1.        ],\n",
       "       [ 1.07579834,  1.48134937,  1.        ],\n",
       "       [-0.63518466, -0.65013725,  1.        ],\n",
       "       [-1.25077642, -2.04744514,  1.        ],\n",
       "       [-0.48128671, -1.35589615,  1.        ],\n",
       "       [ 0.44210094,  0.87505984,  1.        ],\n",
       "       [ 0.62768375,  0.7803271 ,  1.        ],\n",
       "       [-1.16024822, -1.13801085,  1.        ],\n",
       "       [-0.73023927,  0.28298022,  1.        ],\n",
       "       [ 0.47378581,  1.17346797,  1.        ],\n",
       "       [ 0.9219004 ,  0.29719013,  1.        ],\n",
       "       [ 0.90832117,  1.66134157,  1.        ],\n",
       "       [-0.44054902, -1.91955595,  1.        ],\n",
       "       [ 0.78158169,  0.2024574 ,  1.        ],\n",
       "       [-0.62160543, -1.16643068,  1.        ],\n",
       "       [ 0.71368554,  1.76554758,  1.        ],\n",
       "       [-0.79813542, -0.6311907 ,  1.        ],\n",
       "       [-0.98824464, -0.09121409,  1.        ],\n",
       "       [ 0.73179118,  0.86084993,  1.        ],\n",
       "       [ 0.57789324,  0.52454871,  1.        ],\n",
       "       [-0.60349978, -0.25225975,  1.        ],\n",
       "       [ 1.12106244,  0.33508323,  1.        ],\n",
       "       [-0.13275314, -1.00064838,  1.        ],\n",
       "       [ 1.20253782,  0.75190728,  1.        ],\n",
       "       [ 1.45149038,  0.33981987,  1.        ],\n",
       "       [ 0.81779297,  1.23030761,  1.        ],\n",
       "       [-0.95655977, -0.796973  ,  1.        ],\n",
       "       [ 0.04377685, -0.105424  ,  1.        ],\n",
       "       [ 0.6050517 ,  0.45823579,  1.        ],\n",
       "       [-0.27307185, -0.81591954,  1.        ],\n",
       "       [-1.30056693, -0.64540061,  1.        ],\n",
       "       [ 1.17537936,  0.77085383,  1.        ],\n",
       "       [ 0.01209198, -1.01959493,  1.        ],\n",
       "       [ 0.26557094,  1.05978868,  1.        ],\n",
       "       [-0.45412825, -0.67855707,  1.        ],\n",
       "       [ 0.59147247,  1.10715505,  1.        ],\n",
       "       [-0.93392772, -0.86328591,  1.        ],\n",
       "       [-1.75773435, -1.04327812,  1.        ],\n",
       "       [-0.2504398 , -0.82065618,  1.        ],\n",
       "       [ 0.89474194,  0.53875862,  1.        ],\n",
       "       [ 1.35643576,  1.00294904,  1.        ],\n",
       "       [-1.0606672 , -1.6827241 ,  1.        ],\n",
       "       [ 0.34251991,  0.63349136,  1.        ],\n",
       "       [-0.64423748,  0.06509492,  1.        ],\n",
       "       [ 1.22516987,  0.09351475,  1.        ],\n",
       "       [-1.81657768,  0.39192287,  1.        ],\n",
       "       [-0.1146475 ,  0.58612499,  1.        ],\n",
       "       [-0.75287132, -0.61698079,  1.        ],\n",
       "       [ 1.21611705,  1.28714725,  1.        ],\n",
       "       [ 0.20672761,  0.35402978,  1.        ],\n",
       "       [ 1.3292773 ,  0.54349525,  1.        ],\n",
       "       [ 0.55073478,  1.75607431,  1.        ],\n",
       "       [ 1.11200962,  0.33034659,  1.        ],\n",
       "       [-0.97919182, -1.10011776,  1.        ],\n",
       "       [-1.52688743, -0.38488558,  1.        ],\n",
       "       [ 2.01729163,  1.29662053,  1.        ],\n",
       "       [-1.30961975, -0.86802255,  1.        ],\n",
       "       [-1.05614079, -1.19011386,  1.        ],\n",
       "       [-0.69402799, -0.70224026,  1.        ]])"
      ]
     },
     "execution_count": 32,
     "metadata": {},
     "output_type": "execute_result"
    }
   ],
   "source": [
    "X_train"
   ]
  },
  {
   "cell_type": "markdown",
   "metadata": {},
   "source": [
    "Visually, the **training** data looks like this:"
   ]
  },
  {
   "cell_type": "code",
   "execution_count": 33,
   "metadata": {},
   "outputs": [
    {
     "data": {
      "image/png": "[encoded data removed]",
      "text/plain": [
       "<Figure size 300x300 with 1 Axes>"
      ]
     },
     "metadata": {},
     "output_type": "display_data"
    }
   ],
   "source": [
    "plt.figure(figsize=(3,3))\n",
    "plt.scatter(X_train[y_train==0, 0], X_train[y_train==0, 1], label='class 0', marker='o')\n",
    "plt.scatter(X_train[y_train==1, 0], X_train[y_train==1, 1], label='class 1', marker='s')\n",
    "plt.title('Training set',fontsize=10)\n",
    "plt.xlabel('feature 1')\n",
    "plt.ylabel('feature 2')\n",
    "plt.xlim([-3, 3])\n",
    "plt.ylim([-3, 3])\n",
    "plt.legend()\n",
    "plt.show()"
   ]
  },
  {
   "cell_type": "markdown",
   "metadata": {},
   "source": [
    "And the **testing** data looks like this:"
   ]
  },
  {
   "cell_type": "code",
   "execution_count": 29,
   "metadata": {},
   "outputs": [
    {
     "data": {
      "image/png": "[encoded data removed]",
      "text/plain": [
       "<Figure size 300x300 with 1 Axes>"
      ]
     },
     "metadata": {},
     "output_type": "display_data"
    }
   ],
   "source": [
    "plt.figure(figsize=(3,3))\n",
    "plt.scatter(X_test[y_test==0, 0], X_test[y_test==0, 1], label='class 0', marker='o')\n",
    "plt.scatter(X_test[y_test==1, 0], X_test[y_test==1, 1], label='class 1', marker='s')\n",
    "plt.title('Test set', fontsize=10)\n",
    "plt.xlabel('feature 1')\n",
    "plt.ylabel('feature 2')\n",
    "plt.xlim([-3, 3])\n",
    "plt.ylim([-3, 3])\n",
    "plt.legend()\n",
    "plt.show()"
   ]
  },
  {
   "cell_type": "markdown",
   "metadata": {},
   "source": [
    "### Model\n",
    "\n",
    "Lets implement the Perceptron model and its learning rule. We will implement this as a class called `Perceptron`."
   ]
  },
  {
   "cell_type": "code",
   "execution_count": 30,
   "metadata": {},
   "outputs": [],
   "source": [
    "class Perceptron():\n",
    "    def __init__(self, num_features):\n",
    "        \"\"\"Constructor\n",
    "        \n",
    "        Args:\n",
    "            num_features (int): Number of input features \n",
    "                                (excluding the additional '1')\n",
    "        \"\"\"\n",
    "        # number of features for an input, i.e., 2 + 1 in our case (because of the added all-'1' column)\n",
    "        self.num_features = num_features + 1\n",
    "        # initialize the weights to 0\n",
    "        self.weights = np.zeros((self.num_features, 1), dtype=np.float32)\n",
    "\n",
    "        \n",
    "    def forward(self, x):\n",
    "        \"\"\"Computes the perceptron output.\n",
    "        \n",
    "        Args:\n",
    "            x (np.array): Input data; shape = (N, num_features + 1)\n",
    "            \n",
    "        Returns:\n",
    "            y (np.array): Predictions (0/1)\n",
    "        \"\"\"\n",
    "        output = np.dot(x, self.weights) # compute <w,x> = w^T x\n",
    "        # if output > 0 => assign 1, otherwise assign 0\n",
    "        predictions = np.where(output > 0., 1, 0)\n",
    "        return predictions\n",
    "        \n",
    "    def compute_errors(self, x, y):\n",
    "        \"\"\"Perceptron error computation.\n",
    "        \n",
    "        Args:\n",
    "            x (np.array): Input data; shape = (N, num_features + 1)\n",
    "            y (np.array): True labels of input featuers (0/1)\n",
    "            \n",
    "        Returns:\n",
    "            e (np.array): errors (in {+/- 1})\n",
    "        \"\"\"\n",
    "        # run data through the perceptron model\n",
    "        predictions = self.forward(x)\n",
    "        # compute errors\n",
    "        errors = y - predictions\n",
    "        return errors\n",
    "        \n",
    "    def train(self, x, y, epochs):\n",
    "        \"\"\"Implementation of the perceptron learning rule.\n",
    "        \n",
    "        Args: \n",
    "            x (np.array): Input features\n",
    "            y (np.array): Labels of input features (0/1)\n",
    "            epochs (int): Number of times to run through the data\n",
    "        \"\"\"\n",
    "        # go over the training data epoch times\n",
    "        for e in range(epochs):\n",
    "            \n",
    "            # iterate over all training samples\n",
    "            for i in range(y.shape[0]):\n",
    "                \n",
    "                # compute perceptron errors\n",
    "                errors = self.compute_errors(\n",
    "                    x[i].reshape(1, self.num_features), \n",
    "                    y[i])\n",
    "                # make sure we just have a vector\n",
    "                errors = errors.reshape(-1)\n",
    "                # update weight\n",
    "                self.weights += (errors * x[i]).reshape(self.num_features, 1)\n",
    "                \n",
    "    def evaluate(self, x, y):\n",
    "        \"\"\"Computes accuracy of perceptron model.\n",
    "        \n",
    "        Args:\n",
    "            x (np.array): Input features\n",
    "            y (np.array): Labels of input features (0/1)\n",
    "            \n",
    "        Returns:\n",
    "            acc (float): Accuracy (in [0,1]) of perceptron model on input data.\n",
    "        \"\"\"\n",
    "        predictions = self.forward(x).reshape(-1)\n",
    "        accuracy = np.sum(predictions == y) / y.shape[0]\n",
    "        return accuracy"
   ]
  },
  {
   "cell_type": "markdown",
   "metadata": {},
   "source": [
    "### Model training"
   ]
  },
  {
   "cell_type": "code",
   "execution_count": 35,
   "metadata": {},
   "outputs": [
    {
     "name": "stdout",
     "output_type": "stream",
     "text": [
      "Model parameters:\n",
      "Weights:\n",
      "--------\n",
      "[[ 1.2734085]\n",
      " [ 1.3464228]\n",
      " [-1.       ]]\n",
      "(3, 1)\n"
     ]
    }
   ],
   "source": [
    "ppn = Perceptron(num_features=2)\n",
    "\n",
    "ppn.train(X_train, y_train, epochs=100)\n",
    "\n",
    "print('Model parameters:')\n",
    "print('Weights:')\n",
    "print('--------')\n",
    "print(ppn.weights)\n",
    "print(ppn.weights.shape)"
   ]
  },
  {
   "cell_type": "markdown",
   "metadata": {},
   "source": [
    "As mentioned in the discussion of the model, the first two values represent $\\mathbf{w}$, the last one represents $\\theta$ (i.e., the threshold/bias)."
   ]
  },
  {
   "cell_type": "markdown",
   "metadata": {},
   "source": [
    "### Model evaluation"
   ]
  },
  {
   "cell_type": "code",
   "execution_count": 10,
   "metadata": {},
   "outputs": [
    {
     "name": "stdout",
     "output_type": "stream",
     "text": [
      "Train accuracy: 100.000%\n",
      "Test accuracy: 93.333%\n"
     ]
    }
   ],
   "source": [
    "train_acc = ppn.evaluate(X_train, y_train)\n",
    "test_acc = ppn.evaluate(X_test, y_test)\n",
    "\n",
    "print('Train accuracy: %.3f%%' % (train_acc*100))\n",
    "print('Test accuracy: %.3f%%' % (test_acc*100))"
   ]
  },
  {
   "cell_type": "markdown",
   "metadata": {},
   "source": [
    "We see that the training data is perfectly **linearly separable**; the testing error (on previously unseen data) is also close to 100\\%."
   ]
  },
  {
   "cell_type": "markdown",
   "metadata": {},
   "source": [
    "### Visualizing the decision boundary"
   ]
  },
  {
   "cell_type": "code",
   "execution_count": 34,
   "metadata": {},
   "outputs": [
    {
     "data": {
      "image/png": "[encoded data removed]",
      "text/plain": [
       "<Figure size 1000x400 with 2 Axes>"
      ]
     },
     "metadata": {},
     "output_type": "display_data"
    }
   ],
   "source": [
    "# compute line equation based on weights + bias\n",
    "w = ppn.weights[0:2,:]\n",
    "b = ppn.weights[-1,:]\n",
    "\n",
    "x_min = -2\n",
    "y_min = ( (-(w[0] * x_min) - b[0]) \n",
    "          / w[1] )\n",
    "\n",
    "x_max = 2\n",
    "y_max = ( (-(w[0] * x_max) - b[0]) \n",
    "          / w[1] )\n",
    "\n",
    "fig, ax = plt.subplots(1, 2, sharex=True, figsize=(10, 4))\n",
    "\n",
    "# plot the hypothesis (i.e., the line in 2D)\n",
    "ax[0].plot([x_min, x_max], \n",
    "           [y_min, y_max], \n",
    "           label='Hypothesis', lw=2, color='black')\n",
    "ax[1].plot([x_min, x_max], \n",
    "           [y_min, y_max], \n",
    "           label='Hypothesis', \n",
    "           lw=2, color='black')\n",
    "\n",
    "# plot the training points of both classes\n",
    "ax[0].scatter(\n",
    "    X_train[y_train==0, 0], \n",
    "    X_train[y_train==0, 1], \n",
    "    label='class 0', \n",
    "    marker='o')\n",
    "ax[0].scatter(\n",
    "    X_train[y_train==1, 0], \n",
    "    X_train[y_train==1, 1], \n",
    "    label='class 1', marker='s')\n",
    "\n",
    "# plot the testing points of both classes\n",
    "ax[1].scatter(\n",
    "    X_test[y_test==0, 0], \n",
    "    X_test[y_test==0, 1], \n",
    "    label='class 0', marker='o')\n",
    "ax[1].scatter(X_test[y_test==1, 0], \n",
    "              X_test[y_test==1, 1], \n",
    "              label='class 1', \n",
    "              marker='s')\n",
    "\n",
    "ax[0].set_title('Training', fontsize=10)\n",
    "ax[0].legend(loc='upper left')\n",
    "ax[1].set_title('Testing')\n",
    "ax[1].legend(loc='upper left')\n",
    "plt.show()"
   ]
  },
  {
   "cell_type": "code",
   "execution_count": null,
   "metadata": {},
   "outputs": [],
   "source": []
  }
 ],
 "metadata": {
  "kernelspec": {
   "display_name": "Python 3 (ipykernel)",
   "language": "python",
   "name": "python3"
  },
  "language_info": {
   "codemirror_mode": {
    "name": "ipython",
    "version": 3
   },
   "file_extension": ".py",
   "mimetype": "text/x-python",
   "name": "python",
   "nbconvert_exporter": "python",
   "pygments_lexer": "ipython3",
   "version": "3.10.16"
  },
  "vscode": {
   "interpreter": {
    "hash": "0999a529f64c704be3168d024e827e981f385098ab7a480c291c1b125d5f6690"
   }
  }
 },
 "nbformat": 4,
 "nbformat_minor": 4
}
