{
 "cells": [
  {
   "cell_type": "markdown",
   "metadata": {},
   "source": [
    "# Computer Vision (911.908)\n",
    "\n",
    "## <font color='crimson'>The Perceptron</font>\n",
    "\n",
    "---\n",
    "\n",
    "## Content\n",
    "\n",
    "- [Perceptron model](#Perceptron-model)\n",
    "- [Perceptron learning rule](#Perceptron-learning-rule)\n",
    "- [Implementation](#Implementation)\n",
    "    - [Dataset](#Dataset)\n",
    "    - [Model](#Model)\n",
    "    - [Preprocessing](#Preprocessing)\n",
    "    - [Model training](#Model-training)\n",
    "    - [Model evaluation](#Model-evaluation)\n",
    "    - [Visualizing the decision boundary](#Visualizing-the-decision-boundary)\n",
    "\n",
    "---\n",
    "\n",
    "## Perceptron model\n",
    "\n",
    "In this part, we discuss the *classic* perceptron model, also known as the **Rosenblatt Perceptron** (Rosenblatt, 1957). If you want to read the original paper, see [here](https://www.ling.upenn.edu/courses/cogs501/Rosenblatt1958.pdf).\n",
    "\n",
    "**Mathematical model**: Upon receiving an input $\\mathbf{x} \\in \\mathbb{R}^d$, the perceptron computes\n",
    "\n",
    "$$\n",
    "\\text{output} = \\begin{cases}\n",
    "1 & \\text{if}~\\sum_{i=1}^{d} w_i x_i > \\theta \\\\\n",
    "0 & \\text{else}\n",
    "\\end{cases}\n",
    "$$\n",
    "\n",
    "where $\\mathbf{w} = [w_1,\\ldots,w_d]^\\top$ and $\\theta$ (i.e., a scalar) represent the **model parameters**.\n",
    "\n",
    "Effectively, we compute the inner product (in $\\mathbb{R}^d$) between a weight vector $\\mathbf{w}$ and the input $\\mathbf{x}$, and then apply a *threshold* function on the output. In modern treatments of the subject, its more convenient to first define\n",
    "\n",
    "$$ \\phi_\\theta(z) = \\begin{cases}\n",
    "1 & \\text{if}~z-\\theta > 0\\\\\n",
    "0 & \\text{if}~z-\\theta \\leq 0\n",
    "\\end{cases}\n",
    "$$\n",
    " \n",
    "and then write the perceptron computation as\n",
    "\n",
    "$$\n",
    "\\text{output} = \\phi_\\theta(\\mathbf{w}^\\top \\mathbf{x})\n",
    "$$\n",
    "\n",
    "For our purposes, it will be even more convenient to write $\\mathbf{w}=[w_0,w_1,\\ldots,w_d]^\\top$ and \n",
    "$\\mathbf{x} = [1,x_1,\\ldots,x_d]^\\top$ with $w_0 = -\\theta$. That is, we include the **bias** term $-\\theta = w_0$ into $\\mathbf{w}$. This then allows to define\n",
    "\n",
    "$$\n",
    "\\phi(z) = \\begin{cases}\n",
    "1 & \\text{if}~z > 0 \\\\\n",
    "0 & \\text{if}~z \\leq 0\n",
    "\\end{cases}\n",
    "$$\n",
    "\n",
    "and write\n",
    "\n",
    "<font color='blue'>\n",
    "$$\n",
    "\\text{output} = \\phi(\\mathbf{w}^\\top \\mathbf{x})\n",
    "$$\n",
    "</font>\n",
    "\n",
    "with our newly adjusted weight vector and input vector."
   ]
  },
  {
   "cell_type": "markdown",
   "metadata": {},
   "source": [
    "---\n",
    "\n",
    "## Perceptron learning rule\n",
    "\n",
    "The perceptron learning rule is quite simple. Given a collection of training points \n",
    "\n",
    "$$(\\mathbf{x}_1,y_1), \\ldots, (\\mathbf{x}_N,y_N)$$ \n",
    "\n",
    "with $y_i \\in \\mathcal{Y} = \\{0,1\\}$, we distinguish between the following **three cases**:\n",
    "\n",
    "1. if correct: do nothing\n",
    "2. if incorrect (output $0$, desired $1$): <font color='blue'>add</font> input vector to weight vector $\\mathbf{w}$\n",
    "3. if incorrect (output $1$, desired $0$): <font color='blue'>subtract</font> input vector from weight vector $\\mathbf{w}$\n",
    "\n",
    "**Algorithmically**, we have:\n",
    "\n",
    "Initialize $\\mathbf{w}^{(1)} = \\mathbf{0}$ (i.e., all zeros)    \n",
    "For every training epoch (i.e., one run over all training points):    \n",
    "&nbsp;&nbsp;&nbsp;&nbsp; $\\forall i \\in \\{1,\\ldots,N\\}: \\hat{y}_i = \\phi(\\mathbf{w}^\\top \\mathbf{x}_i)$      \n",
    "&nbsp;&nbsp;&nbsp;&nbsp; $\\forall i \\in \\{1,\\ldots,N\\}: \\text{err}_i = (y_i - \\hat{y}_i)$   \n",
    "&nbsp;&nbsp;&nbsp;&nbsp; $\\forall i \\in \\{1,\\ldots,N\\}: \\mathbf{w}^{(t+1)} = \\mathbf{w}^{(t)} + \\text{err}_i \\cdot \\mathbf{x}_i$    \n",
    "Terminate if no errors occur, or if we reach a **certain number of runs (epochs)** over the training data.\n",
    "    \n",
    "**Note**: if $\\hat{y_i} = y_i$, then we do nothing; otherwise, we either add or subtract the input sample $\\mathbf{x}_i$ from the current weight vector $\\mathbf{w}^{(t)}$."
   ]
  },
  {
   "cell_type": "markdown",
   "metadata": {},
   "source": [
    "---\n",
    "\n",
    "## Implementation"
   ]
  },
  {
   "cell_type": "code",
   "execution_count": 15,
   "metadata": {},
   "outputs": [
    {
     "name": "stdout",
     "output_type": "stream",
     "text": [
      "The autoreload extension is already loaded. To reload it, use:\n",
      "  %reload_ext autoreload\n"
     ]
    }
   ],
   "source": [
    "%load_ext autoreload\n",
    "%autoreload 2\n",
    "\n",
    "%matplotlib inline\n",
    "import matplotlib.pyplot as plt\n",
    "\n",
    "import torch\n",
    "import numpy as np"
   ]
  },
  {
   "cell_type": "markdown",
   "metadata": {},
   "source": [
    "### Dataset"
   ]
  },
  {
   "cell_type": "markdown",
   "metadata": {},
   "source": [
    "We use some simple aleady prepared **toy data**. From that toy data, we are going to use 70% for training, 30% for testing."
   ]
  },
  {
   "cell_type": "code",
   "execution_count": 16,
   "metadata": {},
   "outputs": [],
   "source": [
    "# data = np.genfromtxt('../data/perceptron/perceptron_toydata.txt', \n",
    "#                      delimiter='\\t')\n",
    "\n",
    "# print(data[-10:,:])\n",
    "# print(data.shape)"
   ]
  },
  {
   "cell_type": "markdown",
   "metadata": {},
   "source": [
    "In case you want to execute the notebook within Google collab, use the following data loading code (the previous cell will obviously not work as it references a file on the local harddisk)."
   ]
  },
  {
   "cell_type": "code",
   "execution_count": 18,
   "metadata": {},
   "outputs": [],
   "source": [
    "# import pandas as pd\n",
    "# import requests\n",
    "# import io\n",
    "    \n",
    "# # Downloading the csv file from your GitHub account\n",
    "\n",
    "# url = \"https://raw.githubusercontent.com/rkwitt/teaching/master/WS2223/CV/material/data/perceptron/perceptron_toydata.txt\" # Make sure the url is the raw version of the file on GitHub\n",
    "# download = requests.get(url).content\n",
    "# df = pd.read_csv(io.StringIO(download.decode('utf-8')), delimiter='\\t')\n",
    "# data = df.to_numpy(dtype=np.float32)\n",
    "# print(data[-10:,:])\n",
    "# print(data.shape)"
   ]
  },
  {
   "cell_type": "code",
   "execution_count": 20,
   "metadata": {},
   "outputs": [
    {
     "name": "stdout",
     "output_type": "stream",
     "text": [
      "Class label counts: [49 50]\n",
      "X.shape: (99, 2)\n",
      "y.shape: (99,)\n"
     ]
    }
   ],
   "source": [
    "X = data[:, 0:2]                  # first two-columns are our x_i vectors\n",
    "y = data[:, 2].astype(np.int32)   # last column is our target (0 or 1)\n",
    "\n",
    "print('Class label counts:', np.bincount(y))\n",
    "print('X.shape:', X.shape)\n",
    "print('y.shape:', y.shape)\n",
    "\n",
    "# implement random shuffling by hand, just for demonstration\n",
    "shuffle_idx = np.arange(y.shape[0])      \n",
    "shuffle_rng = np.random.RandomState(123)\n",
    "shuffle_rng.shuffle(shuffle_idx)\n",
    "\n",
    "X = X[shuffle_idx]\n",
    "y = y[shuffle_idx]\n",
    "\n",
    "# split the data into 70% training, 30% testing\n",
    "X_train, X_test = X[shuffle_idx[:70]], X[shuffle_idx[70:]]\n",
    "y_train, y_test = y[shuffle_idx[:70]], y[shuffle_idx[70:]]"
   ]
  },
  {
   "cell_type": "markdown",
   "metadata": {},
   "source": [
    "### Preprocessing\n",
    "\n",
    "For numerical stability, we perform some **simple pre-processing** on our data: (1) we subtract the mean and (2) divide by the standard deviation."
   ]
  },
  {
   "cell_type": "code",
   "execution_count": 21,
   "metadata": {},
   "outputs": [
    {
     "name": "stdout",
     "output_type": "stream",
     "text": [
      "Mean along colum:      [2.0435879e-08 6.5565111e-08]\n",
      "Std. dev along colum:  [1. 1.]\n"
     ]
    }
   ],
   "source": [
    "mu, sigma = X_train.mean(axis=0), X_train.std(axis=0) # compute mean & std. deviation\n",
    "X_train = (X_train - mu) / sigma\n",
    "X_test = (X_test - mu) / sigma\n",
    "\n",
    "# let's check if we have mean 0 and std. dev. 1 per column\n",
    "print(\"Mean along colum:     \", X_train.mean(axis=0))\n",
    "print(\"Std. dev along colum: \", X_train.std(axis=0))\n",
    "\n",
    "# add a column of all ones to X, such that each row is [x_1, x_2, 1]\n",
    "X_train = np.c_[ X_train, np.ones(X_train.shape[0])]\n",
    "X_test  = np.c_[ X_test, np.ones(X_test.shape[0])]"
   ]
  },
  {
   "cell_type": "code",
   "execution_count": 22,
   "metadata": {},
   "outputs": [
    {
     "data": {
      "text/plain": [
       "array([[ 1.37324464,  0.29698953,  1.        ],\n",
       "       [-0.56525105, -1.76722348,  1.        ],\n",
       "       [-0.88524199, -0.57716358,  1.        ],\n",
       "       [ 0.7239877 ,  1.11055779,  1.        ],\n",
       "       [ 0.13038138,  0.05465006,  1.        ],\n",
       "       [-0.66263956, -1.35611188,  1.        ],\n",
       "       [-0.23134749,  0.52201909,  1.        ],\n",
       "       [ 1.72106087,  0.18014728,  1.        ],\n",
       "       [ 1.85091221,  1.34424233,  1.        ],\n",
       "       [ 0.64514929,  1.56494439,  1.        ],\n",
       "       [-1.30262136, -1.05318749,  1.        ],\n",
       "       [ 1.28976882,  0.80330592,  1.        ],\n",
       "       [ 1.24803078,  0.48307166,  1.        ],\n",
       "       [-1.4417479 , -2.03552794,  1.        ],\n",
       "       [-0.75075305, -1.07915246,  1.        ],\n",
       "       [-1.43247283, -1.18733978,  1.        ],\n",
       "       [-0.63481432, -0.40839145,  1.        ],\n",
       "       [ 0.50602287,  0.40517679,  1.        ],\n",
       "       [ 0.45037228,  1.59090936,  1.        ],\n",
       "       [ 1.20629287,  1.11921275,  1.        ],\n",
       "       [ 0.25095767,  0.88120085,  1.        ],\n",
       "       [-0.78321588, -0.59447354,  1.        ],\n",
       "       [ 0.80282599,  0.47874415,  1.        ],\n",
       "       [ 0.09791853,  0.30997199,  1.        ],\n",
       "       [ 1.71642327,  1.15816033,  1.        ],\n",
       "       [-1.92405295, -0.55552614,  1.        ],\n",
       "       [-0.24989767, -0.92769033,  1.        ],\n",
       "       [-0.7739408 ,  0.04599508,  1.        ],\n",
       "       [-1.12639451, -0.09681211,  1.        ],\n",
       "       [ 0.63587421,  0.77301353,  1.        ],\n",
       "       [ 0.81673867,  1.50435948,  1.        ],\n",
       "       [ 0.42718455,  1.2490375 ,  1.        ],\n",
       "       [ 0.47819757,  0.46576166,  1.        ],\n",
       "       [ 0.83065134,  0.2580421 ,  1.        ],\n",
       "       [-1.67826283, -0.36511657,  1.        ],\n",
       "       [ 1.28976882,  0.69511873,  1.        ],\n",
       "       [ 1.132092  ,  1.16248775,  1.        ],\n",
       "       [-0.06903325, -0.10979459,  1.        ],\n",
       "       [ 0.52921057,  0.6994462 ,  1.        ],\n",
       "       [ 0.98832804,  1.3399148 ,  1.        ],\n",
       "       [-0.12468384, -1.58546889,  1.        ],\n",
       "       [-1.20059526, -1.55084896,  1.        ],\n",
       "       [ 1.09035408,  0.69079119,  1.        ],\n",
       "       [ 0.15820667,  0.95476818,  1.        ],\n",
       "       [ 0.23704502,  0.56529397,  1.        ],\n",
       "       [ 1.27585614,  0.90283829,  1.        ],\n",
       "       [ 0.37153396,  1.05862796,  1.        ],\n",
       "       [-1.44638538, -0.60312855,  1.        ],\n",
       "       [-0.57916373, -0.633421  ,  1.        ],\n",
       "       [ 0.68688726,  0.17149231,  1.        ],\n",
       "       [ 0.61732405,  1.59956431,  1.        ],\n",
       "       [ 0.30660826,  1.60389185,  1.        ],\n",
       "       [ 0.60804898, -1.71962106,  1.        ],\n",
       "       [-0.37047395, -0.7632457 ,  1.        ],\n",
       "       [ 0.65906197,  0.43979672,  1.        ],\n",
       "       [-1.19595778, -1.1007899 ,  1.        ],\n",
       "       [ 1.1413672 ,  0.07196002,  1.        ],\n",
       "       [-0.82495379, -0.65505844,  1.        ],\n",
       "       [ 0.34370866, -1.42967916,  1.        ],\n",
       "       [-0.10149609, -0.94500029,  1.        ],\n",
       "       [-0.60698897, -1.2522521 ,  1.        ],\n",
       "       [ 0.27878296,  1.12786782,  1.        ],\n",
       "       [ 1.02542853,  0.28833455,  1.        ],\n",
       "       [-1.54841149, -1.69798362,  1.        ],\n",
       "       [-1.91477787, -0.96663773,  1.        ],\n",
       "       [-1.56232417, -0.19634439,  1.        ],\n",
       "       [-0.39366171, -0.75891823,  1.        ],\n",
       "       [-0.30554825, -1.28687203,  1.        ],\n",
       "       [-1.27943361, -1.05751503,  1.        ],\n",
       "       [-1.97506607,  0.34459192,  1.        ]])"
      ]
     },
     "execution_count": 22,
     "metadata": {},
     "output_type": "execute_result"
    }
   ],
   "source": [
    "X_train"
   ]
  },
  {
   "cell_type": "markdown",
   "metadata": {},
   "source": [
    "Visually, the **training** data looks like this:"
   ]
  },
  {
   "cell_type": "code",
   "execution_count": 23,
   "metadata": {},
   "outputs": [
    {
     "data": {
      "image/png": "[encoded data removed]",
      "text/plain": [
       "<Figure size 300x300 with 1 Axes>"
      ]
     },
     "metadata": {},
     "output_type": "display_data"
    }
   ],
   "source": [
    "plt.figure(figsize=(3,3))\n",
    "plt.scatter(X_train[y_train==0, 0], X_train[y_train==0, 1], label='class 0', marker='o')\n",
    "plt.scatter(X_train[y_train==1, 0], X_train[y_train==1, 1], label='class 1', marker='s')\n",
    "plt.title('Training set',fontsize=10)\n",
    "plt.xlabel('feature 1')\n",
    "plt.ylabel('feature 2')\n",
    "plt.xlim([-3, 3])\n",
    "plt.ylim([-3, 3])\n",
    "plt.legend()\n",
    "plt.show()"
   ]
  },
  {
   "cell_type": "markdown",
   "metadata": {},
   "source": [
    "And the **testing** data looks like this:"
   ]
  },
  {
   "cell_type": "code",
   "execution_count": 24,
   "metadata": {},
   "outputs": [
    {
     "data": {
      "image/png": "[encoded data removed]",
      "text/plain": [
       "<Figure size 300x300 with 1 Axes>"
      ]
     },
     "metadata": {},
     "output_type": "display_data"
    }
   ],
   "source": [
    "plt.figure(figsize=(3,3))\n",
    "plt.scatter(X_test[y_test==0, 0], X_test[y_test==0, 1], label='class 0', marker='o')\n",
    "plt.scatter(X_test[y_test==1, 0], X_test[y_test==1, 1], label='class 1', marker='s')\n",
    "plt.title('Test set', fontsize=10)\n",
    "plt.xlabel('feature 1')\n",
    "plt.ylabel('feature 2')\n",
    "plt.xlim([-3, 3])\n",
    "plt.ylim([-3, 3])\n",
    "plt.legend()\n",
    "plt.show()"
   ]
  },
  {
   "cell_type": "markdown",
   "metadata": {},
   "source": [
    "### Model\n",
    "\n",
    "Lets implement the Perceptron model and its learning rule. We will implement this as a class called `Perceptron`."
   ]
  },
  {
   "cell_type": "code",
   "execution_count": 25,
   "metadata": {},
   "outputs": [],
   "source": [
    "class Perceptron():\n",
    "    def __init__(self, num_features):\n",
    "        \"\"\"Constructor\n",
    "        \n",
    "        Args:\n",
    "            num_features (int): Number of input features \n",
    "                                (excluding the additional '1')\n",
    "        \"\"\"\n",
    "        # number of features for an input, i.e., 2 + 1 in our case (because of the added all-'1' column)\n",
    "        self.num_features = num_features + 1\n",
    "        # initialize the weights to 0\n",
    "        self.weights = np.zeros((self.num_features, 1), dtype=np.float32)\n",
    "\n",
    "        \n",
    "    def forward(self, x):\n",
    "        \"\"\"Computes the perceptron output.\n",
    "        \n",
    "        Args:\n",
    "            x (np.array): Input data; shape = (N, num_features + 1)\n",
    "            \n",
    "        Returns:\n",
    "            y (np.array): Predictions (0/1)\n",
    "        \"\"\"\n",
    "        output = np.dot(x, self.weights) # compute <w,x> = w^T x\n",
    "        # if output > 0 => assign 1, otherwise assign 0\n",
    "        predictions = np.where(output > 0., 1, 0)\n",
    "        return predictions\n",
    "        \n",
    "    def compute_errors(self, x, y):\n",
    "        \"\"\"Perceptron error computation.\n",
    "        \n",
    "        Args:\n",
    "            x (np.array): Input data; shape = (N, num_features + 1)\n",
    "            y (np.array): True labels of input featuers (0/1)\n",
    "            \n",
    "        Returns:\n",
    "            e (np.array): errors (in {+/- 1})\n",
    "        \"\"\"\n",
    "        # run data through the perceptron model\n",
    "        predictions = self.forward(x)\n",
    "        # compute errors\n",
    "        errors = y - predictions\n",
    "        return errors\n",
    "        \n",
    "    def train(self, x, y, epochs):\n",
    "        \"\"\"Implementation of the perceptron learning rule.\n",
    "        \n",
    "        Args: \n",
    "            x (np.array): Input features\n",
    "            y (np.array): Labels of input features (0/1)\n",
    "            epochs (int): Number of times to run through the data\n",
    "        \"\"\"\n",
    "        # go over the training data epoch times\n",
    "        for e in range(epochs):\n",
    "            \n",
    "            # iterate over all training samples\n",
    "            for i in range(y.shape[0]):\n",
    "                \n",
    "                # compute perceptron errors\n",
    "                errors = self.compute_errors(\n",
    "                    x[i].reshape(1, self.num_features), \n",
    "                    y[i])\n",
    "                # make sure we just have a vector\n",
    "                errors = errors.reshape(-1)\n",
    "                # update weight\n",
    "                self.weights += (errors * x[i]).reshape(self.num_features, 1)\n",
    "                \n",
    "    def evaluate(self, x, y):\n",
    "        \"\"\"Computes accuracy of perceptron model.\n",
    "        \n",
    "        Args:\n",
    "            x (np.array): Input features\n",
    "            y (np.array): Labels of input features (0/1)\n",
    "            \n",
    "        Returns:\n",
    "            acc (float): Accuracy (in [0,1]) of perceptron model on input data.\n",
    "        \"\"\"\n",
    "        predictions = self.forward(x).reshape(-1)\n",
    "        accuracy = np.sum(predictions == y) / y.shape[0]\n",
    "        return accuracy"
   ]
  },
  {
   "cell_type": "markdown",
   "metadata": {},
   "source": [
    "### Model training"
   ]
  },
  {
   "cell_type": "code",
   "execution_count": 26,
   "metadata": {},
   "outputs": [
    {
     "name": "stdout",
     "output_type": "stream",
     "text": [
      "Model parameters:\n",
      "Weights:\n",
      "--------\n",
      "[[ 1.8034768]\n",
      " [ 1.2219598]\n",
      " [-1.       ]]\n",
      "(3, 1)\n"
     ]
    }
   ],
   "source": [
    "ppn = Perceptron(num_features=2)\n",
    "\n",
    "ppn.train(X_train, y_train, epochs=100)\n",
    "\n",
    "print('Model parameters:')\n",
    "print('Weights:')\n",
    "print('--------')\n",
    "print(ppn.weights)\n",
    "print(ppn.weights.shape)"
   ]
  },
  {
   "cell_type": "markdown",
   "metadata": {},
   "source": [
    "As mentioned in the discussion of the model, the first two values represent $\\mathbf{w}$, the last one represents $\\theta$ (i.e., the threshold/bias)."
   ]
  },
  {
   "cell_type": "markdown",
   "metadata": {},
   "source": [
    "### Model evaluation"
   ]
  },
  {
   "cell_type": "code",
   "execution_count": 27,
   "metadata": {},
   "outputs": [
    {
     "name": "stdout",
     "output_type": "stream",
     "text": [
      "Train accuracy: 100.000%\n",
      "Test accuracy: 93.103%\n"
     ]
    }
   ],
   "source": [
    "train_acc = ppn.evaluate(X_train, y_train)\n",
    "test_acc = ppn.evaluate(X_test, y_test)\n",
    "\n",
    "print('Train accuracy: %.3f%%' % (train_acc*100))\n",
    "print('Test accuracy: %.3f%%' % (test_acc*100))"
   ]
  },
  {
   "cell_type": "markdown",
   "metadata": {},
   "source": [
    "We see that the training data is perfectly **linearly separable**; the testing error (on previously unseen data) is also close to 100\\%."
   ]
  },
  {
   "cell_type": "markdown",
   "metadata": {},
   "source": [
    "### Visualizing the decision boundary"
   ]
  },
  {
   "cell_type": "code",
   "execution_count": 28,
   "metadata": {},
   "outputs": [
    {
     "data": {
      "image/png": "[encoded data removed]",
      "text/plain": [
       "<Figure size 1000x400 with 2 Axes>"
      ]
     },
     "metadata": {},
     "output_type": "display_data"
    }
   ],
   "source": [
    "# compute line equation based on weights + bias\n",
    "w = ppn.weights[0:2,:]\n",
    "b = ppn.weights[-1,:]\n",
    "\n",
    "x_min = -2\n",
    "y_min = ( (-(w[0] * x_min) - b[0]) \n",
    "          / w[1] )\n",
    "\n",
    "x_max = 2\n",
    "y_max = ( (-(w[0] * x_max) - b[0]) \n",
    "          / w[1] )\n",
    "\n",
    "fig, ax = plt.subplots(1, 2, sharex=True, figsize=(10, 4))\n",
    "\n",
    "# plot the hypothesis (i.e., the line in 2D)\n",
    "ax[0].plot([x_min, x_max], \n",
    "           [y_min, y_max], \n",
    "           label='Hypothesis', lw=2, color='black')\n",
    "ax[1].plot([x_min, x_max], \n",
    "           [y_min, y_max], \n",
    "           label='Hypothesis', \n",
    "           lw=2, color='black')\n",
    "\n",
    "# plot the training points of both classes\n",
    "ax[0].scatter(\n",
    "    X_train[y_train==0, 0], \n",
    "    X_train[y_train==0, 1], \n",
    "    label='class 0', \n",
    "    marker='o')\n",
    "ax[0].scatter(\n",
    "    X_train[y_train==1, 0], \n",
    "    X_train[y_train==1, 1], \n",
    "    label='class 1', marker='s')\n",
    "\n",
    "# plot the testing points of both classes\n",
    "ax[1].scatter(\n",
    "    X_test[y_test==0, 0], \n",
    "    X_test[y_test==0, 1], \n",
    "    label='class 0', marker='o')\n",
    "ax[1].scatter(X_test[y_test==1, 0], \n",
    "              X_test[y_test==1, 1], \n",
    "              label='class 1', \n",
    "              marker='s')\n",
    "\n",
    "ax[0].set_title('Training', fontsize=10)\n",
    "ax[0].legend(loc='upper left')\n",
    "ax[1].set_title('Testing')\n",
    "ax[1].legend(loc='upper left')\n",
    "plt.show()"
   ]
  },
  {
   "cell_type": "code",
   "execution_count": null,
   "metadata": {},
   "outputs": [],
   "source": []
  }
 ],
 "metadata": {
  "kernelspec": {
   "display_name": "Python 3 (ipykernel)",
   "language": "python",
   "name": "python3"
  },
  "language_info": {
   "codemirror_mode": {
    "name": "ipython",
    "version": 3
   },
   "file_extension": ".py",
   "mimetype": "text/x-python",
   "name": "python",
   "nbconvert_exporter": "python",
   "pygments_lexer": "ipython3",
   "version": "3.10.16"
  },
  "vscode": {
   "interpreter": {
    "hash": "0999a529f64c704be3168d024e827e981f385098ab7a480c291c1b125d5f6690"
   }
  }
 },
 "nbformat": 4,
 "nbformat_minor": 4
}
